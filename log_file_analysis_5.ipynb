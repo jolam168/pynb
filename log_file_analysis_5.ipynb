{
 "cells": [
  {
   "cell_type": "code",
   "execution_count": 30,
   "metadata": {},
   "outputs": [],
   "source": [
    "import numpy as np\n",
    "from pandas  import DataFrame, Series\n",
    "import matplotlib.pyplot as plt\n",
    "\n",
    "import re\n",
    "from datetime import timedelta, datetime"
   ]
  },
  {
   "cell_type": "code",
   "execution_count": 31,
   "metadata": {},
   "outputs": [],
   "source": [
    "import pandas as pd \n",
    "pd.options.display.max_columns = 50"
   ]
  },
  {
   "cell_type": "code",
   "execution_count": 32,
   "metadata": {},
   "outputs": [],
   "source": [
    "import subprocess\n",
    "\n",
    "root = \"/Users/Lam/PycharmProjects/untitled/aws/\"\n",
    "\n",
    "# source = \"s3://log.api2-server.n-kishou.co.jp/AWSLogs/406671585377/elasticloadbalancing/ap-northeast-1/2019/06/30\"\n",
    "# source = \"s3://log.api2-server.n-kishou.co.jp/access_logs/2019/06/30\"\n",
    "# target = root\n",
    "# subprocess.call([\"aws\", \"s3\", \"cp\", source, target, \"--recursive\"])\n"
   ]
  },
  {
   "cell_type": "code",
   "execution_count": 33,
   "metadata": {},
   "outputs": [],
   "source": [
    "# import os\n",
    "# command = \"cat {0}*.gz > {0}temp.log\".format(root)\n",
    "# print(command)\n",
    "# os.system(command)"
   ]
  },
  {
   "cell_type": "code",
   "execution_count": 34,
   "metadata": {},
   "outputs": [],
   "source": [
    "file_name = root + \"temp.log\"\n",
    "lines = [line.rstrip('\\n') for line in open(file_name)]"
   ]
  },
  {
   "cell_type": "code",
   "execution_count": 35,
   "metadata": {},
   "outputs": [],
   "source": [
    "dt_lst = []\n",
    "for line in lines:\n",
    "    date_str = re.search('\\d{4}-\\d{2}-\\d{2}T\\d{2}:\\d{2}:\\d{2}', line)\n",
    "    dt_line = datetime.strptime(date_str.group(), '%Y-%m-%dT%H:%M:%S')\n",
    "    dt_lst.append(dt_line)"
   ]
  },
  {
   "cell_type": "code",
   "execution_count": 36,
   "metadata": {},
   "outputs": [],
   "source": [
    "sr_dt = Series(dt_lst, name='Request_Time')\n",
    "# Create a DataFrame using the Request_Time Series\n",
    "\n",
    "df = pd.DataFrame(sr_dt)\n",
    "# Create an array of 1's using Numpy\n",
    "count = sr_dt.size\n",
    "ones = np.ones(count, dtype=int)\n",
    "# Add the ones array to the DataFrame with the header \"Counts\"\n",
    "df['Counts'] = ones\n",
    "grouped = df.groupby('Request_Time').count()"
   ]
  },
  {
   "cell_type": "code",
   "execution_count": 37,
   "metadata": {},
   "outputs": [],
   "source": [
    "#80\\/.*.html?"
   ]
  },
  {
   "cell_type": "code",
   "execution_count": 38,
   "metadata": {},
   "outputs": [],
   "source": [
    "dt_lst_2 = []\n",
    "pattern = 'raininfopro.html?.*HTTP'\n",
    "for line in lines:\n",
    "    match = re.search(pattern, line)\n",
    "    if match is not None:\n",
    "        sl_line = match.group().strip().replace(\"HTTP\",\"\")\n",
    "        dt_lst_2.append(sl_line)\n"
   ]
  },
  {
   "cell_type": "code",
   "execution_count": 39,
   "metadata": {},
   "outputs": [],
   "source": [
    "# import urllib.parse as urlparse\n",
    "\n",
    "# for line in  lines:\n",
    "#     url = re.search('http[s]?:\\/\\/(?:[a-zA-Z]|[0-9]|[$-_@.&+]|[!*\\(\\),]|(?:%[0-9a-fA-F][0-9a-fA-F]))+',line)\n",
    "#     parsed = urlparse.urlparse(url.group(0))\n",
    "# #     print(parsed)\n",
    "#     print(''.join(urlparse.parse_qs(parsed.query)['ser']))"
   ]
  },
  {
   "cell_type": "code",
   "execution_count": 40,
   "metadata": {},
   "outputs": [
    {
     "name": "stdout",
     "output_type": "stream",
     "text": [
      "893029\n",
      "893029\n"
     ]
    }
   ],
   "source": [
    "global count, grouped\n",
    "    # Create a Series named \"Request_Time\"\n",
    "sr_dt = Series(dt_lst, name='Request_Time')\n",
    "# Create a DataFrame using the Request_Time Series\n",
    "df = DataFrame(sr_dt)\n",
    "# Create an array of 1's using Numpy\n",
    "count = sr_dt.size\n",
    "ones = np.ones(count, dtype=int)\n",
    "# Add the ones array to the DataFrame with the header \"Counts\"\n",
    "df['Counts'] = ones\n",
    "\n",
    "df['Service'] = Series(dt_lst_2, name='Service')\n",
    "\n",
    "print(len(dt_lst))\n",
    "print(len(dt_lst_2))"
   ]
  },
  {
   "cell_type": "code",
   "execution_count": 41,
   "metadata": {
    "scrolled": true
   },
   "outputs": [
    {
     "data": {
      "text/html": [
       "<div>\n",
       "<style scoped>\n",
       "    .dataframe tbody tr th:only-of-type {\n",
       "        vertical-align: middle;\n",
       "    }\n",
       "\n",
       "    .dataframe tbody tr th {\n",
       "        vertical-align: top;\n",
       "    }\n",
       "\n",
       "    .dataframe thead th {\n",
       "        text-align: right;\n",
       "    }\n",
       "</style>\n",
       "<table border=\"1\" class=\"dataframe\">\n",
       "  <thead>\n",
       "    <tr style=\"text-align: right;\">\n",
       "      <th></th>\n",
       "      <th>Request_Time</th>\n",
       "      <th>Counts</th>\n",
       "    </tr>\n",
       "    <tr>\n",
       "      <th>Service</th>\n",
       "      <th></th>\n",
       "      <th></th>\n",
       "    </tr>\n",
       "  </thead>\n",
       "  <tbody>\n",
       "    <tr>\n",
       "      <th>raininfopro.html?os=Android&amp;device_os=6.0.1&amp;device_name=KYOCERA_KYV38&amp;app_version=5.1&amp;device_uuid=259708173140&amp;pa=nkishou&amp;device_token=c8VvROrkRcQ%3AAPA91bEzTqtQAQV99mPp80DEvMCbTaUUzlG_cND3EBawwo5pl8kT1wDVLRdqG5hNQdnIqUiSFysrktYwypYl6U1tvgZHTpjJXp91zvDdFkdFrRVctif22zn8cl6hCybxuTjCH9Yu_t_1&amp;entity=start_up&amp;service_type=ausp&amp;aups=1&amp;rainalert_starttime=0000&amp;rainalert_endtime=2400&amp;rainalert_enabled=1&amp;area_code=0&amp;lat=35.7205094&amp;lon=140.1599462</th>\n",
       "      <td>879</td>\n",
       "      <td>879</td>\n",
       "    </tr>\n",
       "    <tr>\n",
       "      <th>raininfopro.html?os=Android&amp;device_os=6.0.1&amp;device_name=KDDI_SCL23&amp;app_version=5.2&amp;device_uuid=5a62577c&amp;pa=nkishou&amp;device_token=csg4AFPLpeE%3AAPA91bGDULgS03ZjNA_FrzaTRE5ZKiDyEvF-DBXVfmAk5Z2qu9sfoyVp5LLx2tHuUCmxq-CtQvS5NImcaprqpivTbce2p6KSWtQtUOPSz2doEO53oXRYXpMQ-ibbTH0CprHGKDbktG2g&amp;entity=start_up&amp;service_type=ausp&amp;ausp=1&amp;rainalert_starttime=0000&amp;rainalert_endtime=2400&amp;rainalert_enabled=1&amp;area_code=27100_01&amp;lat=34.621153&amp;lon=135.5459559</th>\n",
       "      <td>485</td>\n",
       "      <td>485</td>\n",
       "    </tr>\n",
       "    <tr>\n",
       "      <th>raininfopro.html?os=Android&amp;device_os=6.0.1&amp;device_name=KDDI_SHV37&amp;app_version=5.1&amp;device_uuid=356124070402050&amp;pa=nkishou&amp;device_token=feFxtaquSgM%3AAPA91bFKn2vV1iM2cDqewKgByN-QhYANx_ImGqBTmkguOG8PL8pp1tYNhor45I7gjkhS9R7AabA8Mp5Msukwb7cf872_f2vuA0bKYXTfgnJcgBACS-HlZ_Y-ItntHaIDJIUmNOr4iBA1&amp;entity=start_up&amp;service_type=ausp&amp;aups=1&amp;rainalert_starttime=0000&amp;rainalert_endtime=2400&amp;rainalert_enabled=1&amp;area_code=14201&amp;lat=35.28137911&amp;lon=139.6721224</th>\n",
       "      <td>281</td>\n",
       "      <td>281</td>\n",
       "    </tr>\n",
       "  </tbody>\n",
       "</table>\n",
       "</div>"
      ],
      "text/plain": [
       "                                                    Request_Time  Counts\n",
       "Service                                                                 \n",
       "raininfopro.html?os=Android&device_os=6.0.1&dev...           879     879\n",
       "raininfopro.html?os=Android&device_os=6.0.1&dev...           485     485\n",
       "raininfopro.html?os=Android&device_os=6.0.1&dev...           281     281"
      ]
     },
     "metadata": {},
     "output_type": "display_data"
    }
   ],
   "source": [
    "# from IPython.display import display, HTML\n",
    "\n",
    "#& (df['Request_Time'] <= '2019-06-27 09:00:00')\n",
    "result = df.groupby('Service').count().sort_values(['Counts'],ascending=False).head(3)\n",
    "display(result)\n",
    "\n",
    "# display(df)"
   ]
  },
  {
   "cell_type": "code",
   "execution_count": 42,
   "metadata": {},
   "outputs": [
    {
     "data": {
      "text/html": [
       "<div>\n",
       "<style scoped>\n",
       "    .dataframe tbody tr th:only-of-type {\n",
       "        vertical-align: middle;\n",
       "    }\n",
       "\n",
       "    .dataframe tbody tr th {\n",
       "        vertical-align: top;\n",
       "    }\n",
       "\n",
       "    .dataframe thead th {\n",
       "        text-align: right;\n",
       "    }\n",
       "</style>\n",
       "<table border=\"1\" class=\"dataframe\">\n",
       "  <thead>\n",
       "    <tr style=\"text-align: right;\">\n",
       "      <th></th>\n",
       "      <th>Counts</th>\n",
       "      <th>Service</th>\n",
       "    </tr>\n",
       "    <tr>\n",
       "      <th>Request_Time</th>\n",
       "      <th></th>\n",
       "      <th></th>\n",
       "    </tr>\n",
       "  </thead>\n",
       "  <tbody>\n",
       "    <tr>\n",
       "      <th>2019-07-23 21:00:09</th>\n",
       "      <td>45</td>\n",
       "      <td>45</td>\n",
       "    </tr>\n",
       "    <tr>\n",
       "      <th>2019-07-23 19:00:04</th>\n",
       "      <td>41</td>\n",
       "      <td>41</td>\n",
       "    </tr>\n",
       "    <tr>\n",
       "      <th>2019-07-23 19:00:03</th>\n",
       "      <td>37</td>\n",
       "      <td>37</td>\n",
       "    </tr>\n",
       "    <tr>\n",
       "      <th>2019-07-23 21:00:08</th>\n",
       "      <td>34</td>\n",
       "      <td>34</td>\n",
       "    </tr>\n",
       "    <tr>\n",
       "      <th>2019-07-23 21:30:05</th>\n",
       "      <td>33</td>\n",
       "      <td>33</td>\n",
       "    </tr>\n",
       "    <tr>\n",
       "      <th>2019-07-23 14:00:02</th>\n",
       "      <td>32</td>\n",
       "      <td>32</td>\n",
       "    </tr>\n",
       "    <tr>\n",
       "      <th>2019-07-23 15:00:02</th>\n",
       "      <td>32</td>\n",
       "      <td>32</td>\n",
       "    </tr>\n",
       "    <tr>\n",
       "      <th>2019-07-23 21:45:03</th>\n",
       "      <td>31</td>\n",
       "      <td>31</td>\n",
       "    </tr>\n",
       "    <tr>\n",
       "      <th>2019-07-23 15:00:01</th>\n",
       "      <td>31</td>\n",
       "      <td>31</td>\n",
       "    </tr>\n",
       "    <tr>\n",
       "      <th>2019-07-23 02:00:02</th>\n",
       "      <td>29</td>\n",
       "      <td>29</td>\n",
       "    </tr>\n",
       "  </tbody>\n",
       "</table>\n",
       "</div>"
      ],
      "text/plain": [
       "                     Counts  Service\n",
       "Request_Time                        \n",
       "2019-07-23 21:00:09      45       45\n",
       "2019-07-23 19:00:04      41       41\n",
       "2019-07-23 19:00:03      37       37\n",
       "2019-07-23 21:00:08      34       34\n",
       "2019-07-23 21:30:05      33       33\n",
       "2019-07-23 14:00:02      32       32\n",
       "2019-07-23 15:00:02      32       32\n",
       "2019-07-23 21:45:03      31       31\n",
       "2019-07-23 15:00:01      31       31\n",
       "2019-07-23 02:00:02      29       29"
      ]
     },
     "metadata": {},
     "output_type": "display_data"
    }
   ],
   "source": [
    "\n",
    "result = df.groupby(['Request_Time']).count().sort_values(['Counts'],ascending=False).head(10)\n",
    "display(result)"
   ]
  },
  {
   "cell_type": "code",
   "execution_count": 43,
   "metadata": {},
   "outputs": [
    {
     "data": {
      "text/html": [
       "<div>\n",
       "<style scoped>\n",
       "    .dataframe tbody tr th:only-of-type {\n",
       "        vertical-align: middle;\n",
       "    }\n",
       "\n",
       "    .dataframe tbody tr th {\n",
       "        vertical-align: top;\n",
       "    }\n",
       "\n",
       "    .dataframe thead th {\n",
       "        text-align: right;\n",
       "    }\n",
       "</style>\n",
       "<table border=\"1\" class=\"dataframe\">\n",
       "  <thead>\n",
       "    <tr style=\"text-align: right;\">\n",
       "      <th></th>\n",
       "      <th></th>\n",
       "      <th>Counts</th>\n",
       "    </tr>\n",
       "    <tr>\n",
       "      <th>Request_Time</th>\n",
       "      <th>Service</th>\n",
       "      <th></th>\n",
       "    </tr>\n",
       "  </thead>\n",
       "  <tbody>\n",
       "    <tr>\n",
       "      <th>2019-07-23 00:36:56</th>\n",
       "      <th>raininfopro.html?os=Android&amp;device_os=6.0.1&amp;device_name=KYOCERA_KYV38&amp;app_version=5.1&amp;device_uuid=259708173140&amp;pa=nkishou&amp;device_token=c8VvROrkRcQ%3AAPA91bEzTqtQAQV99mPp80DEvMCbTaUUzlG_cND3EBawwo5pl8kT1wDVLRdqG5hNQdnIqUiSFysrktYwypYl6U1tvgZHTpjJXp91zvDdFkdFrRVctif22zn8cl6hCybxuTjCH9Yu_t_1&amp;entity=start_up&amp;service_type=ausp&amp;aups=1&amp;rainalert_starttime=0000&amp;rainalert_endtime=2400&amp;rainalert_enabled=1&amp;area_code=0&amp;lat=35.7211808&amp;lon=140.1608977</th>\n",
       "      <td>10</td>\n",
       "    </tr>\n",
       "    <tr>\n",
       "      <th>2019-07-23 00:14:18</th>\n",
       "      <th>raininfopro.html?os=Android&amp;device_os=6.0.1&amp;device_name=KYOCERA_KYV38&amp;app_version=5.1&amp;device_uuid=259708173140&amp;pa=nkishou&amp;device_token=c8VvROrkRcQ%3AAPA91bEzTqtQAQV99mPp80DEvMCbTaUUzlG_cND3EBawwo5pl8kT1wDVLRdqG5hNQdnIqUiSFysrktYwypYl6U1tvgZHTpjJXp91zvDdFkdFrRVctif22zn8cl6hCybxuTjCH9Yu_t_1&amp;entity=start_up&amp;service_type=ausp&amp;aups=1&amp;rainalert_starttime=0000&amp;rainalert_endtime=2400&amp;rainalert_enabled=1&amp;area_code=0&amp;lat=35.7205094&amp;lon=140.1599462</th>\n",
       "      <td>9</td>\n",
       "    </tr>\n",
       "    <tr>\n",
       "      <th>2019-07-23 00:21:22</th>\n",
       "      <th>raininfopro.html?os=Android&amp;device_os=6.0.1&amp;device_name=KYOCERA_KYV38&amp;app_version=5.1&amp;device_uuid=259708173140&amp;pa=nkishou&amp;device_token=c8VvROrkRcQ%3AAPA91bEzTqtQAQV99mPp80DEvMCbTaUUzlG_cND3EBawwo5pl8kT1wDVLRdqG5hNQdnIqUiSFysrktYwypYl6U1tvgZHTpjJXp91zvDdFkdFrRVctif22zn8cl6hCybxuTjCH9Yu_t_1&amp;entity=start_up&amp;service_type=ausp&amp;aups=1&amp;rainalert_starttime=0000&amp;rainalert_endtime=2400&amp;rainalert_enabled=1&amp;area_code=0&amp;lat=35.7205094&amp;lon=140.1599462</th>\n",
       "      <td>9</td>\n",
       "    </tr>\n",
       "    <tr>\n",
       "      <th>2019-07-23 00:59:03</th>\n",
       "      <th>raininfopro.html?os=Android&amp;device_os=6.0.1&amp;device_name=KYOCERA_KYV38&amp;app_version=5.1&amp;device_uuid=259708173140&amp;pa=nkishou&amp;device_token=c8VvROrkRcQ%3AAPA91bEzTqtQAQV99mPp80DEvMCbTaUUzlG_cND3EBawwo5pl8kT1wDVLRdqG5hNQdnIqUiSFysrktYwypYl6U1tvgZHTpjJXp91zvDdFkdFrRVctif22zn8cl6hCybxuTjCH9Yu_t_1&amp;entity=start_up&amp;service_type=ausp&amp;aups=1&amp;rainalert_starttime=0000&amp;rainalert_endtime=2400&amp;rainalert_enabled=1&amp;area_code=0&amp;lat=35.716638&amp;lon=140.1281037</th>\n",
       "      <td>9</td>\n",
       "    </tr>\n",
       "    <tr>\n",
       "      <th>2019-07-23 00:25:40</th>\n",
       "      <th>raininfopro.html?os=Android&amp;device_os=6.0.1&amp;device_name=KYOCERA_KYV38&amp;app_version=5.1&amp;device_uuid=259708173140&amp;pa=nkishou&amp;device_token=c8VvROrkRcQ%3AAPA91bEzTqtQAQV99mPp80DEvMCbTaUUzlG_cND3EBawwo5pl8kT1wDVLRdqG5hNQdnIqUiSFysrktYwypYl6U1tvgZHTpjJXp91zvDdFkdFrRVctif22zn8cl6hCybxuTjCH9Yu_t_1&amp;entity=start_up&amp;service_type=ausp&amp;aups=1&amp;rainalert_starttime=0000&amp;rainalert_endtime=2400&amp;rainalert_enabled=1&amp;area_code=0&amp;lat=35.7205094&amp;lon=140.1599462</th>\n",
       "      <td>8</td>\n",
       "    </tr>\n",
       "    <tr>\n",
       "      <th>2019-07-23 11:07:53</th>\n",
       "      <th>raininfopro.html?os=Android&amp;device_os=6.0.1&amp;device_name=KYOCERA_KYV38&amp;app_version=5.1&amp;device_uuid=259708173140&amp;pa=nkishou&amp;device_token=c8VvROrkRcQ%3AAPA91bEzTqtQAQV99mPp80DEvMCbTaUUzlG_cND3EBawwo5pl8kT1wDVLRdqG5hNQdnIqUiSFysrktYwypYl6U1tvgZHTpjJXp91zvDdFkdFrRVctif22zn8cl6hCybxuTjCH9Yu_t_1&amp;entity=start_up&amp;service_type=ausp&amp;aups=1&amp;rainalert_starttime=0000&amp;rainalert_endtime=2400&amp;rainalert_enabled=1&amp;area_code=0&amp;lat=35.720493&amp;lon=140.1598933</th>\n",
       "      <td>8</td>\n",
       "    </tr>\n",
       "    <tr>\n",
       "      <th>2019-07-23 23:10:53</th>\n",
       "      <th>raininfopro.html?os=Android&amp;device_os=6.0.1&amp;device_name=KYOCERA_KYV38&amp;app_version=5.1&amp;device_uuid=259708173140&amp;pa=nkishou&amp;device_token=c8VvROrkRcQ%3AAPA91bEzTqtQAQV99mPp80DEvMCbTaUUzlG_cND3EBawwo5pl8kT1wDVLRdqG5hNQdnIqUiSFysrktYwypYl6U1tvgZHTpjJXp91zvDdFkdFrRVctif22zn8cl6hCybxuTjCH9Yu_t_1&amp;entity=start_up&amp;service_type=ausp&amp;aups=1&amp;rainalert_starttime=0000&amp;rainalert_endtime=2400&amp;rainalert_enabled=1&amp;area_code=0&amp;lat=35.7205094&amp;lon=140.1599462</th>\n",
       "      <td>8</td>\n",
       "    </tr>\n",
       "    <tr>\n",
       "      <th>2019-07-23 00:44:07</th>\n",
       "      <th>raininfopro.html?os=Android&amp;device_os=6.0.1&amp;device_name=KYOCERA_KYV38&amp;app_version=5.1&amp;device_uuid=259708173140&amp;pa=nkishou&amp;device_token=c8VvROrkRcQ%3AAPA91bEzTqtQAQV99mPp80DEvMCbTaUUzlG_cND3EBawwo5pl8kT1wDVLRdqG5hNQdnIqUiSFysrktYwypYl6U1tvgZHTpjJXp91zvDdFkdFrRVctif22zn8cl6hCybxuTjCH9Yu_t_1&amp;entity=start_up&amp;service_type=ausp&amp;aups=1&amp;rainalert_starttime=0000&amp;rainalert_endtime=2400&amp;rainalert_enabled=1&amp;area_code=0&amp;lat=35.7176645&amp;lon=140.1414578</th>\n",
       "      <td>8</td>\n",
       "    </tr>\n",
       "    <tr>\n",
       "      <th>2019-07-23 11:57:10</th>\n",
       "      <th>raininfopro.html?os=Android&amp;device_os=6.0.1&amp;device_name=KDDI_SHV37&amp;app_version=5.1&amp;device_uuid=356124070402050&amp;pa=nkishou&amp;device_token=feFxtaquSgM%3AAPA91bFKn2vV1iM2cDqewKgByN-QhYANx_ImGqBTmkguOG8PL8pp1tYNhor45I7gjkhS9R7AabA8Mp5Msukwb7cf872_f2vuA0bKYXTfgnJcgBACS-HlZ_Y-ItntHaIDJIUmNOr4iBA1&amp;entity=start_up&amp;service_type=ausp&amp;aups=1&amp;rainalert_starttime=0000&amp;rainalert_endtime=2400&amp;rainalert_enabled=1&amp;area_code=14201&amp;lat=35.28137911&amp;lon=139.6721224</th>\n",
       "      <td>7</td>\n",
       "    </tr>\n",
       "    <tr>\n",
       "      <th>2019-07-23 13:08:00</th>\n",
       "      <th>raininfopro.html?os=Android&amp;device_os=6.0.1&amp;device_name=KYOCERA_KYV38&amp;app_version=5.1&amp;device_uuid=259708173140&amp;pa=nkishou&amp;device_token=c8VvROrkRcQ%3AAPA91bEzTqtQAQV99mPp80DEvMCbTaUUzlG_cND3EBawwo5pl8kT1wDVLRdqG5hNQdnIqUiSFysrktYwypYl6U1tvgZHTpjJXp91zvDdFkdFrRVctif22zn8cl6hCybxuTjCH9Yu_t_1&amp;entity=start_up&amp;service_type=ausp&amp;aups=1&amp;rainalert_starttime=0000&amp;rainalert_endtime=2400&amp;rainalert_enabled=1&amp;area_code=0&amp;lat=35.7205094&amp;lon=140.1599462</th>\n",
       "      <td>7</td>\n",
       "    </tr>\n",
       "  </tbody>\n",
       "</table>\n",
       "</div>"
      ],
      "text/plain": [
       "                                                                        Counts\n",
       "Request_Time        Service                                                   \n",
       "2019-07-23 00:36:56 raininfopro.html?os=Android&device_os=6.0.1&dev...      10\n",
       "2019-07-23 00:14:18 raininfopro.html?os=Android&device_os=6.0.1&dev...       9\n",
       "2019-07-23 00:21:22 raininfopro.html?os=Android&device_os=6.0.1&dev...       9\n",
       "2019-07-23 00:59:03 raininfopro.html?os=Android&device_os=6.0.1&dev...       9\n",
       "2019-07-23 00:25:40 raininfopro.html?os=Android&device_os=6.0.1&dev...       8\n",
       "2019-07-23 11:07:53 raininfopro.html?os=Android&device_os=6.0.1&dev...       8\n",
       "2019-07-23 23:10:53 raininfopro.html?os=Android&device_os=6.0.1&dev...       8\n",
       "2019-07-23 00:44:07 raininfopro.html?os=Android&device_os=6.0.1&dev...       8\n",
       "2019-07-23 11:57:10 raininfopro.html?os=Android&device_os=6.0.1&dev...       7\n",
       "2019-07-23 13:08:00 raininfopro.html?os=Android&device_os=6.0.1&dev...       7"
      ]
     },
     "metadata": {},
     "output_type": "display_data"
    }
   ],
   "source": [
    "\n",
    "result = df.groupby(['Request_Time','Service']).count().sort_values(['Counts'],ascending=False).head(10)\n",
    "display(result)"
   ]
  },
  {
   "cell_type": "code",
   "execution_count": 44,
   "metadata": {},
   "outputs": [
    {
     "data": {
      "text/html": [
       "<div>\n",
       "<style scoped>\n",
       "    .dataframe tbody tr th:only-of-type {\n",
       "        vertical-align: middle;\n",
       "    }\n",
       "\n",
       "    .dataframe tbody tr th {\n",
       "        vertical-align: top;\n",
       "    }\n",
       "\n",
       "    .dataframe thead th {\n",
       "        text-align: right;\n",
       "    }\n",
       "</style>\n",
       "<table border=\"1\" class=\"dataframe\">\n",
       "  <thead>\n",
       "    <tr style=\"text-align: right;\">\n",
       "      <th></th>\n",
       "      <th></th>\n",
       "      <th>Counts</th>\n",
       "    </tr>\n",
       "    <tr>\n",
       "      <th>Request_Time</th>\n",
       "      <th>Service</th>\n",
       "      <th></th>\n",
       "    </tr>\n",
       "  </thead>\n",
       "  <tbody>\n",
       "    <tr>\n",
       "      <th>2019-07-23 00:36:56</th>\n",
       "      <th>raininfopro.html?os=Android&amp;device_os=6.0.1&amp;device_name=KYOCERA_KYV38&amp;app_version=5.1&amp;device_uuid=259708173140&amp;pa=nkishou&amp;device_token=c8VvROrkRcQ%3AAPA91bEzTqtQAQV99mPp80DEvMCbTaUUzlG_cND3EBawwo5pl8kT1wDVLRdqG5hNQdnIqUiSFysrktYwypYl6U1tvgZHTpjJXp91zvDdFkdFrRVctif22zn8cl6hCybxuTjCH9Yu_t_1&amp;entity=start_up&amp;service_type=ausp&amp;aups=1&amp;rainalert_starttime=0000&amp;rainalert_endtime=2400&amp;rainalert_enabled=1&amp;area_code=0&amp;lat=35.7211808&amp;lon=140.1608977</th>\n",
       "      <td>10</td>\n",
       "    </tr>\n",
       "    <tr>\n",
       "      <th>2019-07-23 00:14:18</th>\n",
       "      <th>raininfopro.html?os=Android&amp;device_os=6.0.1&amp;device_name=KYOCERA_KYV38&amp;app_version=5.1&amp;device_uuid=259708173140&amp;pa=nkishou&amp;device_token=c8VvROrkRcQ%3AAPA91bEzTqtQAQV99mPp80DEvMCbTaUUzlG_cND3EBawwo5pl8kT1wDVLRdqG5hNQdnIqUiSFysrktYwypYl6U1tvgZHTpjJXp91zvDdFkdFrRVctif22zn8cl6hCybxuTjCH9Yu_t_1&amp;entity=start_up&amp;service_type=ausp&amp;aups=1&amp;rainalert_starttime=0000&amp;rainalert_endtime=2400&amp;rainalert_enabled=1&amp;area_code=0&amp;lat=35.7205094&amp;lon=140.1599462</th>\n",
       "      <td>9</td>\n",
       "    </tr>\n",
       "    <tr>\n",
       "      <th>2019-07-23 00:21:22</th>\n",
       "      <th>raininfopro.html?os=Android&amp;device_os=6.0.1&amp;device_name=KYOCERA_KYV38&amp;app_version=5.1&amp;device_uuid=259708173140&amp;pa=nkishou&amp;device_token=c8VvROrkRcQ%3AAPA91bEzTqtQAQV99mPp80DEvMCbTaUUzlG_cND3EBawwo5pl8kT1wDVLRdqG5hNQdnIqUiSFysrktYwypYl6U1tvgZHTpjJXp91zvDdFkdFrRVctif22zn8cl6hCybxuTjCH9Yu_t_1&amp;entity=start_up&amp;service_type=ausp&amp;aups=1&amp;rainalert_starttime=0000&amp;rainalert_endtime=2400&amp;rainalert_enabled=1&amp;area_code=0&amp;lat=35.7205094&amp;lon=140.1599462</th>\n",
       "      <td>9</td>\n",
       "    </tr>\n",
       "    <tr>\n",
       "      <th>2019-07-23 00:59:03</th>\n",
       "      <th>raininfopro.html?os=Android&amp;device_os=6.0.1&amp;device_name=KYOCERA_KYV38&amp;app_version=5.1&amp;device_uuid=259708173140&amp;pa=nkishou&amp;device_token=c8VvROrkRcQ%3AAPA91bEzTqtQAQV99mPp80DEvMCbTaUUzlG_cND3EBawwo5pl8kT1wDVLRdqG5hNQdnIqUiSFysrktYwypYl6U1tvgZHTpjJXp91zvDdFkdFrRVctif22zn8cl6hCybxuTjCH9Yu_t_1&amp;entity=start_up&amp;service_type=ausp&amp;aups=1&amp;rainalert_starttime=0000&amp;rainalert_endtime=2400&amp;rainalert_enabled=1&amp;area_code=0&amp;lat=35.716638&amp;lon=140.1281037</th>\n",
       "      <td>9</td>\n",
       "    </tr>\n",
       "    <tr>\n",
       "      <th>2019-07-23 00:25:40</th>\n",
       "      <th>raininfopro.html?os=Android&amp;device_os=6.0.1&amp;device_name=KYOCERA_KYV38&amp;app_version=5.1&amp;device_uuid=259708173140&amp;pa=nkishou&amp;device_token=c8VvROrkRcQ%3AAPA91bEzTqtQAQV99mPp80DEvMCbTaUUzlG_cND3EBawwo5pl8kT1wDVLRdqG5hNQdnIqUiSFysrktYwypYl6U1tvgZHTpjJXp91zvDdFkdFrRVctif22zn8cl6hCybxuTjCH9Yu_t_1&amp;entity=start_up&amp;service_type=ausp&amp;aups=1&amp;rainalert_starttime=0000&amp;rainalert_endtime=2400&amp;rainalert_enabled=1&amp;area_code=0&amp;lat=35.7205094&amp;lon=140.1599462</th>\n",
       "      <td>8</td>\n",
       "    </tr>\n",
       "    <tr>\n",
       "      <th>2019-07-23 11:07:53</th>\n",
       "      <th>raininfopro.html?os=Android&amp;device_os=6.0.1&amp;device_name=KYOCERA_KYV38&amp;app_version=5.1&amp;device_uuid=259708173140&amp;pa=nkishou&amp;device_token=c8VvROrkRcQ%3AAPA91bEzTqtQAQV99mPp80DEvMCbTaUUzlG_cND3EBawwo5pl8kT1wDVLRdqG5hNQdnIqUiSFysrktYwypYl6U1tvgZHTpjJXp91zvDdFkdFrRVctif22zn8cl6hCybxuTjCH9Yu_t_1&amp;entity=start_up&amp;service_type=ausp&amp;aups=1&amp;rainalert_starttime=0000&amp;rainalert_endtime=2400&amp;rainalert_enabled=1&amp;area_code=0&amp;lat=35.720493&amp;lon=140.1598933</th>\n",
       "      <td>8</td>\n",
       "    </tr>\n",
       "    <tr>\n",
       "      <th>2019-07-23 23:10:53</th>\n",
       "      <th>raininfopro.html?os=Android&amp;device_os=6.0.1&amp;device_name=KYOCERA_KYV38&amp;app_version=5.1&amp;device_uuid=259708173140&amp;pa=nkishou&amp;device_token=c8VvROrkRcQ%3AAPA91bEzTqtQAQV99mPp80DEvMCbTaUUzlG_cND3EBawwo5pl8kT1wDVLRdqG5hNQdnIqUiSFysrktYwypYl6U1tvgZHTpjJXp91zvDdFkdFrRVctif22zn8cl6hCybxuTjCH9Yu_t_1&amp;entity=start_up&amp;service_type=ausp&amp;aups=1&amp;rainalert_starttime=0000&amp;rainalert_endtime=2400&amp;rainalert_enabled=1&amp;area_code=0&amp;lat=35.7205094&amp;lon=140.1599462</th>\n",
       "      <td>8</td>\n",
       "    </tr>\n",
       "    <tr>\n",
       "      <th>2019-07-23 00:44:07</th>\n",
       "      <th>raininfopro.html?os=Android&amp;device_os=6.0.1&amp;device_name=KYOCERA_KYV38&amp;app_version=5.1&amp;device_uuid=259708173140&amp;pa=nkishou&amp;device_token=c8VvROrkRcQ%3AAPA91bEzTqtQAQV99mPp80DEvMCbTaUUzlG_cND3EBawwo5pl8kT1wDVLRdqG5hNQdnIqUiSFysrktYwypYl6U1tvgZHTpjJXp91zvDdFkdFrRVctif22zn8cl6hCybxuTjCH9Yu_t_1&amp;entity=start_up&amp;service_type=ausp&amp;aups=1&amp;rainalert_starttime=0000&amp;rainalert_endtime=2400&amp;rainalert_enabled=1&amp;area_code=0&amp;lat=35.7176645&amp;lon=140.1414578</th>\n",
       "      <td>8</td>\n",
       "    </tr>\n",
       "    <tr>\n",
       "      <th>2019-07-23 11:57:10</th>\n",
       "      <th>raininfopro.html?os=Android&amp;device_os=6.0.1&amp;device_name=KDDI_SHV37&amp;app_version=5.1&amp;device_uuid=356124070402050&amp;pa=nkishou&amp;device_token=feFxtaquSgM%3AAPA91bFKn2vV1iM2cDqewKgByN-QhYANx_ImGqBTmkguOG8PL8pp1tYNhor45I7gjkhS9R7AabA8Mp5Msukwb7cf872_f2vuA0bKYXTfgnJcgBACS-HlZ_Y-ItntHaIDJIUmNOr4iBA1&amp;entity=start_up&amp;service_type=ausp&amp;aups=1&amp;rainalert_starttime=0000&amp;rainalert_endtime=2400&amp;rainalert_enabled=1&amp;area_code=14201&amp;lat=35.28137911&amp;lon=139.6721224</th>\n",
       "      <td>7</td>\n",
       "    </tr>\n",
       "    <tr>\n",
       "      <th>2019-07-23 13:08:00</th>\n",
       "      <th>raininfopro.html?os=Android&amp;device_os=6.0.1&amp;device_name=KYOCERA_KYV38&amp;app_version=5.1&amp;device_uuid=259708173140&amp;pa=nkishou&amp;device_token=c8VvROrkRcQ%3AAPA91bEzTqtQAQV99mPp80DEvMCbTaUUzlG_cND3EBawwo5pl8kT1wDVLRdqG5hNQdnIqUiSFysrktYwypYl6U1tvgZHTpjJXp91zvDdFkdFrRVctif22zn8cl6hCybxuTjCH9Yu_t_1&amp;entity=start_up&amp;service_type=ausp&amp;aups=1&amp;rainalert_starttime=0000&amp;rainalert_endtime=2400&amp;rainalert_enabled=1&amp;area_code=0&amp;lat=35.7205094&amp;lon=140.1599462</th>\n",
       "      <td>7</td>\n",
       "    </tr>\n",
       "  </tbody>\n",
       "</table>\n",
       "</div>"
      ],
      "text/plain": [
       "                                                                        Counts\n",
       "Request_Time        Service                                                   \n",
       "2019-07-23 00:36:56 raininfopro.html?os=Android&device_os=6.0.1&dev...      10\n",
       "2019-07-23 00:14:18 raininfopro.html?os=Android&device_os=6.0.1&dev...       9\n",
       "2019-07-23 00:21:22 raininfopro.html?os=Android&device_os=6.0.1&dev...       9\n",
       "2019-07-23 00:59:03 raininfopro.html?os=Android&device_os=6.0.1&dev...       9\n",
       "2019-07-23 00:25:40 raininfopro.html?os=Android&device_os=6.0.1&dev...       8\n",
       "2019-07-23 11:07:53 raininfopro.html?os=Android&device_os=6.0.1&dev...       8\n",
       "2019-07-23 23:10:53 raininfopro.html?os=Android&device_os=6.0.1&dev...       8\n",
       "2019-07-23 00:44:07 raininfopro.html?os=Android&device_os=6.0.1&dev...       8\n",
       "2019-07-23 11:57:10 raininfopro.html?os=Android&device_os=6.0.1&dev...       7\n",
       "2019-07-23 13:08:00 raininfopro.html?os=Android&device_os=6.0.1&dev...       7"
      ]
     },
     "metadata": {},
     "output_type": "display_data"
    },
    {
     "name": "stdout",
     "output_type": "stream",
     "text": [
      "0\n"
     ]
    },
    {
     "data": {
      "text/html": [
       "<div>\n",
       "<style scoped>\n",
       "    .dataframe tbody tr th:only-of-type {\n",
       "        vertical-align: middle;\n",
       "    }\n",
       "\n",
       "    .dataframe tbody tr th {\n",
       "        vertical-align: top;\n",
       "    }\n",
       "\n",
       "    .dataframe thead th {\n",
       "        text-align: right;\n",
       "    }\n",
       "</style>\n",
       "<table border=\"1\" class=\"dataframe\">\n",
       "  <thead>\n",
       "    <tr style=\"text-align: right;\">\n",
       "      <th></th>\n",
       "      <th></th>\n",
       "      <th>Counts</th>\n",
       "    </tr>\n",
       "    <tr>\n",
       "      <th>Request_Time</th>\n",
       "      <th>Service</th>\n",
       "      <th></th>\n",
       "    </tr>\n",
       "  </thead>\n",
       "  <tbody>\n",
       "  </tbody>\n",
       "</table>\n",
       "</div>"
      ],
      "text/plain": [
       "Empty DataFrame\n",
       "Columns: [Counts]\n",
       "Index: []"
      ]
     },
     "metadata": {},
     "output_type": "display_data"
    }
   ],
   "source": [
    "#### from IPython.display import display, HTML\n",
    "\n",
    "result = df.groupby(['Request_Time','Service']).count().sort_values(['Counts'],ascending=False).head(10)\n",
    "display(result)\n",
    "big_result = result.loc[ (result['Counts'] > 200)]\n",
    "print(len(big_result.index))\n",
    "display(big_result)\n"
   ]
  },
  {
   "cell_type": "code",
   "execution_count": 20,
   "metadata": {},
   "outputs": [
    {
     "name": "stdout",
     "output_type": "stream",
     "text": [
      "10\n",
      "device_uuid,device_os,device_name,app_version\n",
      "259708173140,6.0.1,KYOCERA_KYV38,5.1\n",
      "259708173140,6.0.1,KYOCERA_KYV38,5.1\n",
      "259708374287,6.0.1,KYOCERA_KYV38,5.2\n",
      "356105070797425,6.0.1,KDDI_SHV34,5.2\n",
      "CB512AT3KN,6.0.1,KDDI_SOV33,5.2\n",
      "356124070402050,6.0.1,KDDI_SHV37,5.1\n",
      "259708138489,6.0.1,KYOCERA_KYV38,5.2\n",
      "259708156903,6.0.1,KYOCERA_KYV38,5.2\n",
      "259708168702,6.0.1,KYOCERA_KYV38,5.2\n",
      "259708308977,6.0.1,KYOCERA_KYV38,5.2\n"
     ]
    }
   ],
   "source": [
    "import urllib.parse as urlparse\n",
    "\n",
    "title = ['device_uuid','device_os','device_name','app_version']\n",
    "\n",
    "output_list = []\n",
    "\n",
    "for i in range(len(big_result.index)):\n",
    "    url = big_result.index[i]\n",
    "    parsed = urlparse.urlparse(url)\n",
    "    \n",
    "    output = []\n",
    "    for i in range(len(title)):\n",
    "        output.append(\"\".join(urlparse.parse_qs(parsed.query)[title[i]]))\n",
    "        \n",
    "    output_list.append(output)   \n",
    "    \n",
    "print(len(output_list))\n",
    "\n",
    "print(','.join(map(str, title)))\n",
    "\n",
    "for item in output_list:\n",
    "    print(','.join(map(str, item)))\n",
    "        "
   ]
  },
  {
   "cell_type": "code",
   "execution_count": 21,
   "metadata": {},
   "outputs": [],
   "source": [
    "filter_date = (df['Request_Time'] > '2019-06-27 05:00:00') & (df['Request_Time'] <= '2019-06-27 09:00:00')\n",
    "result = df.loc[filter_date].groupby('Service').count().sort_values(['Counts'],ascending=False).head(3)\n",
    "# print(result.index[0])\n",
    "\n"
   ]
  },
  {
   "cell_type": "code",
   "execution_count": 22,
   "metadata": {},
   "outputs": [
    {
     "ename": "IndexError",
     "evalue": "index 0 is out of bounds for axis 0 with size 0",
     "output_type": "error",
     "traceback": [
      "\u001b[0;31m---------------------------------------------------------------------------\u001b[0m",
      "\u001b[0;31mIndexError\u001b[0m                                Traceback (most recent call last)",
      "\u001b[0;32m<ipython-input-22-c539e0ff0212>\u001b[0m in \u001b[0;36m<module>\u001b[0;34m()\u001b[0m\n\u001b[1;32m      1\u001b[0m \u001b[0;31m# link_name = 'raininfopro.html?os=Android&device_os=6.0.1&device_name=KYOCERA_KYV38&app_version=5.1&device_uuid=259708173140&pa=nkishou&device_token=c8VvROrkRcQ%3AAPA91bEzTqtQAQV99mPp80DEvMCbTaUUzlG_cND3EBawwo5pl8kT1wDVLRdqG5hNQdnIqUiSFysrktYwypYl6U1tvgZHTpjJXp91zvDdFkdFrRVctif22zn8cl6hCybxuTjCH9Yu_t_1&entity=start_up&service_type=ausp&aups=1&rainalert_starttime=0000&rainalert_endtime=2400&rainalert_enabled=1&area_code=0&lat=35.7204979&lon=140.1599286'\u001b[0m\u001b[0;34m\u001b[0m\u001b[0;34m\u001b[0m\u001b[0m\n\u001b[0;32m----> 2\u001b[0;31m \u001b[0mmask\u001b[0m \u001b[0;34m=\u001b[0m \u001b[0;34m(\u001b[0m\u001b[0mdf\u001b[0m\u001b[0;34m[\u001b[0m\u001b[0;34m'Request_Time'\u001b[0m\u001b[0;34m]\u001b[0m \u001b[0;34m>\u001b[0m \u001b[0;34m'2019-06-27 05:00:00'\u001b[0m\u001b[0;34m)\u001b[0m \u001b[0;34m&\u001b[0m \u001b[0;34m(\u001b[0m\u001b[0mdf\u001b[0m\u001b[0;34m[\u001b[0m\u001b[0;34m'Request_Time'\u001b[0m\u001b[0;34m]\u001b[0m \u001b[0;34m<=\u001b[0m \u001b[0;34m'2019-06-27 09:00:00'\u001b[0m\u001b[0;34m)\u001b[0m \u001b[0;34m&\u001b[0m \u001b[0;34m(\u001b[0m\u001b[0mdf\u001b[0m\u001b[0;34m[\u001b[0m\u001b[0;34m'Service'\u001b[0m\u001b[0;34m]\u001b[0m \u001b[0;34m==\u001b[0m \u001b[0mresult\u001b[0m\u001b[0;34m.\u001b[0m\u001b[0mindex\u001b[0m\u001b[0;34m[\u001b[0m\u001b[0;36m0\u001b[0m\u001b[0;34m]\u001b[0m\u001b[0;34m)\u001b[0m\u001b[0;34m\u001b[0m\u001b[0m\n\u001b[0m\u001b[1;32m      3\u001b[0m \u001b[0mdf\u001b[0m\u001b[0;34m.\u001b[0m\u001b[0mloc\u001b[0m\u001b[0;34m[\u001b[0m\u001b[0mmask\u001b[0m\u001b[0;34m]\u001b[0m\u001b[0;34m.\u001b[0m\u001b[0mgroupby\u001b[0m\u001b[0;34m(\u001b[0m\u001b[0;34m'Request_Time'\u001b[0m\u001b[0;34m)\u001b[0m\u001b[0;34m.\u001b[0m\u001b[0mcount\u001b[0m\u001b[0;34m(\u001b[0m\u001b[0;34m)\u001b[0m\u001b[0;34m.\u001b[0m\u001b[0msort_values\u001b[0m\u001b[0;34m(\u001b[0m\u001b[0;34m[\u001b[0m\u001b[0;34m'Counts'\u001b[0m\u001b[0;34m]\u001b[0m\u001b[0;34m,\u001b[0m\u001b[0mascending\u001b[0m\u001b[0;34m=\u001b[0m\u001b[0;32mFalse\u001b[0m\u001b[0;34m)\u001b[0m\u001b[0;34m\u001b[0m\u001b[0m\n",
      "\u001b[0;32m~/anaconda3/lib/python3.6/site-packages/pandas/core/indexes/base.py\u001b[0m in \u001b[0;36m__getitem__\u001b[0;34m(self, key)\u001b[0m\n\u001b[1;32m   2067\u001b[0m \u001b[0;34m\u001b[0m\u001b[0m\n\u001b[1;32m   2068\u001b[0m         \u001b[0;32mif\u001b[0m \u001b[0mis_scalar\u001b[0m\u001b[0;34m(\u001b[0m\u001b[0mkey\u001b[0m\u001b[0;34m)\u001b[0m\u001b[0;34m:\u001b[0m\u001b[0;34m\u001b[0m\u001b[0m\n\u001b[0;32m-> 2069\u001b[0;31m             \u001b[0;32mreturn\u001b[0m \u001b[0mgetitem\u001b[0m\u001b[0;34m(\u001b[0m\u001b[0mkey\u001b[0m\u001b[0;34m)\u001b[0m\u001b[0;34m\u001b[0m\u001b[0m\n\u001b[0m\u001b[1;32m   2070\u001b[0m \u001b[0;34m\u001b[0m\u001b[0m\n\u001b[1;32m   2071\u001b[0m         \u001b[0;32mif\u001b[0m \u001b[0misinstance\u001b[0m\u001b[0;34m(\u001b[0m\u001b[0mkey\u001b[0m\u001b[0;34m,\u001b[0m \u001b[0mslice\u001b[0m\u001b[0;34m)\u001b[0m\u001b[0;34m:\u001b[0m\u001b[0;34m\u001b[0m\u001b[0m\n",
      "\u001b[0;31mIndexError\u001b[0m: index 0 is out of bounds for axis 0 with size 0"
     ]
    }
   ],
   "source": [
    "# link_name = 'raininfopro.html?os=Android&device_os=6.0.1&device_name=KYOCERA_KYV38&app_version=5.1&device_uuid=259708173140&pa=nkishou&device_token=c8VvROrkRcQ%3AAPA91bEzTqtQAQV99mPp80DEvMCbTaUUzlG_cND3EBawwo5pl8kT1wDVLRdqG5hNQdnIqUiSFysrktYwypYl6U1tvgZHTpjJXp91zvDdFkdFrRVctif22zn8cl6hCybxuTjCH9Yu_t_1&entity=start_up&service_type=ausp&aups=1&rainalert_starttime=0000&rainalert_endtime=2400&rainalert_enabled=1&area_code=0&lat=35.7204979&lon=140.1599286'\n",
    "mask = (df['Request_Time'] > '2019-06-27 05:00:00') & (df['Request_Time'] <= '2019-06-27 09:00:00') & (df['Service'] == result.index[0])\n",
    "df.loc[mask].groupby('Request_Time').count().sort_values(['Counts'],ascending=False)"
   ]
  },
  {
   "cell_type": "code",
   "execution_count": null,
   "metadata": {},
   "outputs": [],
   "source": [
    "result = df.loc[mask].groupby('Request_Time').count()\n",
    "# result.index\n",
    "plt.plot_date(result.index,result['Counts'])\n",
    "plt.grid(True)\n",
    "plt.rcParams[\"figure.figsize\"] = (100,1)\n",
    "plt.show()"
   ]
  },
  {
   "cell_type": "code",
   "execution_count": null,
   "metadata": {},
   "outputs": [],
   "source": []
  }
 ],
 "metadata": {
  "kernelspec": {
   "display_name": "Python 3",
   "language": "python",
   "name": "python3"
  },
  "language_info": {
   "codemirror_mode": {
    "name": "ipython",
    "version": 3
   },
   "file_extension": ".py",
   "mimetype": "text/x-python",
   "name": "python",
   "nbconvert_exporter": "python",
   "pygments_lexer": "ipython3",
   "version": "3.6.5"
  }
 },
 "nbformat": 4,
 "nbformat_minor": 2
}
