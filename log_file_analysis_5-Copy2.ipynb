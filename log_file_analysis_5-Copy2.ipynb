{
 "cells": [
  {
   "cell_type": "code",
   "execution_count": 26,
   "metadata": {},
   "outputs": [],
   "source": [
    "import numpy as np\n",
    "from pandas  import DataFrame, Series\n",
    "import matplotlib.pyplot as plt\n",
    "\n",
    "import re\n",
    "from datetime import timedelta, datetime"
   ]
  },
  {
   "cell_type": "code",
   "execution_count": 27,
   "metadata": {},
   "outputs": [],
   "source": [
    "import pandas as pd \n",
    "pd.options.display.max_columns = 50"
   ]
  },
  {
   "cell_type": "code",
   "execution_count": 28,
   "metadata": {},
   "outputs": [],
   "source": [
    "root = \"/Users/Lam/PycharmProjects/untitled/aws/\"\n",
    "file_name = root + \"temp.log\"\n",
    "lines = [line.rstrip('\\n') for line in open(file_name)]"
   ]
  },
  {
   "cell_type": "code",
   "execution_count": 29,
   "metadata": {},
   "outputs": [],
   "source": [
    "dt_lst = []\n",
    "for line in lines:\n",
    "    date_str = re.search('\\d{4}-\\d{2}-\\d{2}T\\d{2}:\\d{2}:\\d{2}', line)\n",
    "    dt_line = datetime.strptime(date_str.group(), '%Y-%m-%dT%H:%M:%S')\n",
    "    dt_lst.append(dt_line)"
   ]
  },
  {
   "cell_type": "code",
   "execution_count": 30,
   "metadata": {},
   "outputs": [],
   "source": [
    "sr_dt = Series(dt_lst, name='Request_Time')\n",
    "# Create a DataFrame using the Request_Time Series\n",
    "\n",
    "df = pd.DataFrame( columns=[ 'device_uuid','device_os','device_name','app_version','Request_Time' ,  'Counts' ] )\n",
    "df['Request_Time'] = sr_dt\n",
    "count = sr_dt.size\n",
    "ones = np.ones(count, dtype=int)\n",
    "df['Counts'] = ones\n",
    "grouped = df.groupby('Request_Time').count()"
   ]
  },
  {
   "cell_type": "code",
   "execution_count": 32,
   "metadata": {},
   "outputs": [
    {
     "data": {
      "text/html": [
       "<div>\n",
       "<style scoped>\n",
       "    .dataframe tbody tr th:only-of-type {\n",
       "        vertical-align: middle;\n",
       "    }\n",
       "\n",
       "    .dataframe tbody tr th {\n",
       "        vertical-align: top;\n",
       "    }\n",
       "\n",
       "    .dataframe thead th {\n",
       "        text-align: right;\n",
       "    }\n",
       "</style>\n",
       "<table border=\"1\" class=\"dataframe\">\n",
       "  <thead>\n",
       "    <tr style=\"text-align: right;\">\n",
       "      <th></th>\n",
       "      <th>device_uuid</th>\n",
       "      <th>device_os</th>\n",
       "      <th>device_name</th>\n",
       "      <th>app_version</th>\n",
       "      <th>Request_Time</th>\n",
       "      <th>Counts</th>\n",
       "    </tr>\n",
       "  </thead>\n",
       "  <tbody>\n",
       "    <tr>\n",
       "      <th>0</th>\n",
       "      <td>NaN</td>\n",
       "      <td>NaN</td>\n",
       "      <td>NaN</td>\n",
       "      <td>NaN</td>\n",
       "      <td>2019-07-23 00:00:00</td>\n",
       "      <td>1</td>\n",
       "    </tr>\n",
       "    <tr>\n",
       "      <th>1</th>\n",
       "      <td>NaN</td>\n",
       "      <td>NaN</td>\n",
       "      <td>NaN</td>\n",
       "      <td>NaN</td>\n",
       "      <td>2019-07-23 00:00:00</td>\n",
       "      <td>1</td>\n",
       "    </tr>\n",
       "    <tr>\n",
       "      <th>2</th>\n",
       "      <td>NaN</td>\n",
       "      <td>NaN</td>\n",
       "      <td>NaN</td>\n",
       "      <td>NaN</td>\n",
       "      <td>2019-07-23 00:00:00</td>\n",
       "      <td>1</td>\n",
       "    </tr>\n",
       "    <tr>\n",
       "      <th>3</th>\n",
       "      <td>NaN</td>\n",
       "      <td>NaN</td>\n",
       "      <td>NaN</td>\n",
       "      <td>NaN</td>\n",
       "      <td>2019-07-23 00:00:00</td>\n",
       "      <td>1</td>\n",
       "    </tr>\n",
       "    <tr>\n",
       "      <th>4</th>\n",
       "      <td>NaN</td>\n",
       "      <td>NaN</td>\n",
       "      <td>NaN</td>\n",
       "      <td>NaN</td>\n",
       "      <td>2019-07-23 00:00:00</td>\n",
       "      <td>1</td>\n",
       "    </tr>\n",
       "    <tr>\n",
       "      <th>5</th>\n",
       "      <td>NaN</td>\n",
       "      <td>NaN</td>\n",
       "      <td>NaN</td>\n",
       "      <td>NaN</td>\n",
       "      <td>2019-07-23 00:00:00</td>\n",
       "      <td>1</td>\n",
       "    </tr>\n",
       "    <tr>\n",
       "      <th>6</th>\n",
       "      <td>NaN</td>\n",
       "      <td>NaN</td>\n",
       "      <td>NaN</td>\n",
       "      <td>NaN</td>\n",
       "      <td>2019-07-23 00:00:00</td>\n",
       "      <td>1</td>\n",
       "    </tr>\n",
       "    <tr>\n",
       "      <th>7</th>\n",
       "      <td>NaN</td>\n",
       "      <td>NaN</td>\n",
       "      <td>NaN</td>\n",
       "      <td>NaN</td>\n",
       "      <td>2019-07-23 00:00:01</td>\n",
       "      <td>1</td>\n",
       "    </tr>\n",
       "    <tr>\n",
       "      <th>8</th>\n",
       "      <td>NaN</td>\n",
       "      <td>NaN</td>\n",
       "      <td>NaN</td>\n",
       "      <td>NaN</td>\n",
       "      <td>2019-07-23 00:00:01</td>\n",
       "      <td>1</td>\n",
       "    </tr>\n",
       "    <tr>\n",
       "      <th>9</th>\n",
       "      <td>NaN</td>\n",
       "      <td>NaN</td>\n",
       "      <td>NaN</td>\n",
       "      <td>NaN</td>\n",
       "      <td>2019-07-23 00:00:01</td>\n",
       "      <td>1</td>\n",
       "    </tr>\n",
       "  </tbody>\n",
       "</table>\n",
       "</div>"
      ],
      "text/plain": [
       "  device_uuid device_os device_name app_version        Request_Time  Counts\n",
       "0         NaN       NaN         NaN         NaN 2019-07-23 00:00:00       1\n",
       "1         NaN       NaN         NaN         NaN 2019-07-23 00:00:00       1\n",
       "2         NaN       NaN         NaN         NaN 2019-07-23 00:00:00       1\n",
       "3         NaN       NaN         NaN         NaN 2019-07-23 00:00:00       1\n",
       "4         NaN       NaN         NaN         NaN 2019-07-23 00:00:00       1\n",
       "5         NaN       NaN         NaN         NaN 2019-07-23 00:00:00       1\n",
       "6         NaN       NaN         NaN         NaN 2019-07-23 00:00:00       1\n",
       "7         NaN       NaN         NaN         NaN 2019-07-23 00:00:01       1\n",
       "8         NaN       NaN         NaN         NaN 2019-07-23 00:00:01       1\n",
       "9         NaN       NaN         NaN         NaN 2019-07-23 00:00:01       1"
      ]
     },
     "metadata": {},
     "output_type": "display_data"
    }
   ],
   "source": [
    "#80\\/.*.html?\n",
    "display(df.head(10))"
   ]
  },
  {
   "cell_type": "code",
   "execution_count": 33,
   "metadata": {},
   "outputs": [],
   "source": [
    "title = ['device_uuid','device_os','device_name','app_version']\n",
    "# for i in range(len(big_result.index)):\n",
    "#     url = big_result.index[i]\n",
    "#     parsed = urlparse.urlparse(url)\n",
    "    \n",
    "#     output = []\n",
    "#     for i in range(len(title)):\n",
    "#         output.append(\"\".join(urlparse.parse_qs(parsed.query)[title[i]]))\n",
    "        \n",
    "#     output_list.append(output)   "
   ]
  },
  {
   "cell_type": "code",
   "execution_count": 34,
   "metadata": {},
   "outputs": [],
   "source": [
    "import urllib.parse as urlparse\n"
   ]
  },
  {
   "cell_type": "code",
   "execution_count": 35,
   "metadata": {},
   "outputs": [
    {
     "ename": "KeyError",
     "evalue": "'device_uuid'",
     "output_type": "error",
     "traceback": [
      "\u001b[0;31m---------------------------------------------------------------------------\u001b[0m",
      "\u001b[0;31mKeyError\u001b[0m                                  Traceback (most recent call last)",
      "\u001b[0;32m<ipython-input-35-513f4a0f972f>\u001b[0m in \u001b[0;36m<module>\u001b[0;34m()\u001b[0m\n\u001b[1;32m     13\u001b[0m         \u001b[0mparsed\u001b[0m \u001b[0;34m=\u001b[0m \u001b[0murlparse\u001b[0m\u001b[0;34m.\u001b[0m\u001b[0murlparse\u001b[0m\u001b[0;34m(\u001b[0m\u001b[0msl_line\u001b[0m\u001b[0;34m)\u001b[0m\u001b[0;34m\u001b[0m\u001b[0m\n\u001b[1;32m     14\u001b[0m \u001b[0;34m\u001b[0m\u001b[0m\n\u001b[0;32m---> 15\u001b[0;31m         \u001b[0mdevice_uuid\u001b[0m \u001b[0;34m=\u001b[0m \u001b[0;34m''\u001b[0m\u001b[0;34m.\u001b[0m\u001b[0mjoin\u001b[0m\u001b[0;34m(\u001b[0m\u001b[0murlparse\u001b[0m\u001b[0;34m.\u001b[0m\u001b[0mparse_qs\u001b[0m\u001b[0;34m(\u001b[0m\u001b[0mparsed\u001b[0m\u001b[0;34m.\u001b[0m\u001b[0mquery\u001b[0m\u001b[0;34m)\u001b[0m\u001b[0;34m[\u001b[0m\u001b[0mtitle\u001b[0m\u001b[0;34m[\u001b[0m\u001b[0;36m0\u001b[0m\u001b[0;34m]\u001b[0m\u001b[0;34m]\u001b[0m\u001b[0;34m)\u001b[0m\u001b[0;34m\u001b[0m\u001b[0m\n\u001b[0m\u001b[1;32m     16\u001b[0m         \u001b[0mdevice_os\u001b[0m \u001b[0;34m=\u001b[0m \u001b[0;34m''\u001b[0m\u001b[0;34m.\u001b[0m\u001b[0mjoin\u001b[0m\u001b[0;34m(\u001b[0m\u001b[0murlparse\u001b[0m\u001b[0;34m.\u001b[0m\u001b[0mparse_qs\u001b[0m\u001b[0;34m(\u001b[0m\u001b[0mparsed\u001b[0m\u001b[0;34m.\u001b[0m\u001b[0mquery\u001b[0m\u001b[0;34m)\u001b[0m\u001b[0;34m[\u001b[0m\u001b[0mtitle\u001b[0m\u001b[0;34m[\u001b[0m\u001b[0;36m1\u001b[0m\u001b[0;34m]\u001b[0m\u001b[0;34m]\u001b[0m\u001b[0;34m)\u001b[0m\u001b[0;34m\u001b[0m\u001b[0m\n\u001b[1;32m     17\u001b[0m         \u001b[0mdevice_name\u001b[0m \u001b[0;34m=\u001b[0m \u001b[0;34m''\u001b[0m\u001b[0;34m.\u001b[0m\u001b[0mjoin\u001b[0m\u001b[0;34m(\u001b[0m\u001b[0murlparse\u001b[0m\u001b[0;34m.\u001b[0m\u001b[0mparse_qs\u001b[0m\u001b[0;34m(\u001b[0m\u001b[0mparsed\u001b[0m\u001b[0;34m.\u001b[0m\u001b[0mquery\u001b[0m\u001b[0;34m)\u001b[0m\u001b[0;34m[\u001b[0m\u001b[0mtitle\u001b[0m\u001b[0;34m[\u001b[0m\u001b[0;36m2\u001b[0m\u001b[0;34m]\u001b[0m\u001b[0;34m]\u001b[0m\u001b[0;34m)\u001b[0m\u001b[0;34m\u001b[0m\u001b[0m\n",
      "\u001b[0;31mKeyError\u001b[0m: 'device_uuid'"
     ]
    }
   ],
   "source": [
    "dt_lst_2 = []\n",
    "dt_lst_3 = []\n",
    "dt_lst_4 = []\n",
    "dt_lst_5 = []\n",
    "\n",
    "\n",
    "\n",
    "pattern = 'raininfopro.html?.*HTTP'\n",
    "for line in lines:\n",
    "    match = re.search(pattern, line)\n",
    "    if match is not None:\n",
    "        sl_line = match.group().strip().replace(\"HTTP\",\"\")\n",
    "        parsed = urlparse.urlparse(sl_line)\n",
    "\n",
    "        device_uuid = ''.join(urlparse.parse_qs(parsed.query)[title[0]])\n",
    "        device_os = ''.join(urlparse.parse_qs(parsed.query)[title[1]])\n",
    "        device_name = ''.join(urlparse.parse_qs(parsed.query)[title[2]])\n",
    "        app_version = ''.join(urlparse.parse_qs(parsed.query)[title[3]])\n",
    "\n",
    "        dt_lst_2.append(device_uuid)\n",
    "        dt_lst_3.append(device_os)\n",
    "        dt_lst_4.append(device_name)\n",
    "        dt_lst_5.append(app_version)\n",
    "\n"
   ]
  },
  {
   "cell_type": "code",
   "execution_count": null,
   "metadata": {},
   "outputs": [],
   "source": [
    "# import urllib.parse as urlparse\n",
    "\n",
    "# for line in  lines:\n",
    "#     url = re.search('http[s]?:\\/\\/(?:[a-zA-Z]|[0-9]|[$-_@.&+]|[!*\\(\\),]|(?:%[0-9a-fA-F][0-9a-fA-F]))+',line)\n",
    "#     parsed = urlparse.urlparse(url.group(0))\n",
    "# #     print(parsed)\n",
    "#     print(''.join(urlparse.parse_qs(parsed.query)['ser']))"
   ]
  },
  {
   "cell_type": "code",
   "execution_count": null,
   "metadata": {},
   "outputs": [],
   "source": [
    "\n",
    "\n",
    "df[df.columns[0]] = Series(dt_lst_2, name='device_uuid')\n",
    "df[df.columns[1]] = Series(dt_lst_3, name='device_os')\n",
    "df[df.columns[2]] = Series(dt_lst_4, name='device_name')\n",
    "df[df.columns[3]] = Series(dt_lst_5, name='app_version')\n",
    "\n",
    "display(df)"
   ]
  },
  {
   "cell_type": "code",
   "execution_count": null,
   "metadata": {
    "scrolled": true
   },
   "outputs": [],
   "source": [
    "# from IPython.display import display, HTML\n",
    "\n",
    "# filter_date = (df['Request_Time'] > '2019-06-27 05:00:00') & (df['Request_Time'] <= '2019-06-27 09:00:00')\n",
    "# result = df.loc[filter_date].groupby('Service').count().sort_values(['Counts'],ascending=False).head(3)\n",
    "# display(result)\n",
    "\n",
    "# display(df)"
   ]
  },
  {
   "cell_type": "code",
   "execution_count": null,
   "metadata": {
    "scrolled": true
   },
   "outputs": [],
   "source": [
    "\n",
    "result = df.groupby(['device_uuid']).count().sort_values(['app_version'],ascending=False)\n",
    "display(result)"
   ]
  },
  {
   "cell_type": "code",
   "execution_count": null,
   "metadata": {},
   "outputs": [],
   "source": [
    "\n",
    "result = df.rename(columns={'device_name':'count'})[['device_uuid','Request_Time',\"app_version\",'device_os','count']].groupby(['device_uuid',pd.Grouper(key='Request_Time', freq='1H'),\"app_version\",'device_os']).count().sort_values(['count'],ascending=False)\n",
    "display(result)\n"
   ]
  },
  {
   "cell_type": "code",
   "execution_count": null,
   "metadata": {},
   "outputs": [],
   "source": [
    "# result = df.rename(columns={'device_name':'count'})[['device_uuid','Request_Time',\"app_version\",'device_os','count']].groupby(['device_uuid',pd.Grouper(key='Request_Time', freq='1H'),\"app_version\",'device_os']).count().sort_values(['count'],ascending=False)\n",
    "\n",
    "result = df.rename(columns={'device_name':'count'})[['device_uuid','Request_Time',\"app_version\",'device_os','count']].groupby(['device_uuid',pd.Grouper(key='Request_Time', freq='1D'),\"app_version\",'device_os']).count().sort_values(['count'],ascending=False)\n",
    "\n",
    "# result_reset = result.reset_index()\n",
    "# print(result_reset)\n",
    "# display(result_reset.loc[result_reset['device_uuid'] == '179609282495'].groupby(['Request_Time']).sum())\n",
    "# display(result_reset.loc[result_reset['device_uuid'] == '259708173140'].groupby([pd.Grouper(key='Request_Time', freq='1H')]).sum().sort_values(['count'],ascending=False))\n",
    "# result = df.groupby([pd.Grouper(key='Request_Time', freq='1H')]).count()\n",
    "display(result)\n",
    "# display(result.loc[result['count'] > 50])"
   ]
  },
  {
   "cell_type": "code",
   "execution_count": 17,
   "metadata": {
    "scrolled": false
   },
   "outputs": [],
   "source": [
    "# result = df.groupby(['Request_Time','device_name'], as_index=False).agg({'device_uuid':'count'}).sort_values(['device_uuid'],ascending=False)\n",
    "# display(result)\n",
    "# display(result.rename(columns={'device_name': 'c'}, inplace=True))"
   ]
  },
  {
   "cell_type": "code",
   "execution_count": 24,
   "metadata": {},
   "outputs": [
    {
     "ename": "KeyError",
     "evalue": "'Service'",
     "output_type": "error",
     "traceback": [
      "\u001b[0;31m---------------------------------------------------------------------------\u001b[0m",
      "\u001b[0;31mKeyError\u001b[0m                                  Traceback (most recent call last)",
      "\u001b[0;32m<ipython-input-24-053bda85261e>\u001b[0m in \u001b[0;36m<module>\u001b[0;34m()\u001b[0m\n\u001b[1;32m      1\u001b[0m \u001b[0;31m#### from IPython.display import display, HTML\u001b[0m\u001b[0;34m\u001b[0m\u001b[0;34m\u001b[0m\u001b[0m\n\u001b[1;32m      2\u001b[0m \u001b[0;34m\u001b[0m\u001b[0m\n\u001b[0;32m----> 3\u001b[0;31m \u001b[0mresult\u001b[0m \u001b[0;34m=\u001b[0m \u001b[0mdf\u001b[0m\u001b[0;34m.\u001b[0m\u001b[0mgroupby\u001b[0m\u001b[0;34m(\u001b[0m\u001b[0;34m'Service'\u001b[0m\u001b[0;34m)\u001b[0m\u001b[0;34m.\u001b[0m\u001b[0mcount\u001b[0m\u001b[0;34m(\u001b[0m\u001b[0;34m)\u001b[0m\u001b[0;34m.\u001b[0m\u001b[0msort_values\u001b[0m\u001b[0;34m(\u001b[0m\u001b[0;34m[\u001b[0m\u001b[0;34m'Counts'\u001b[0m\u001b[0;34m]\u001b[0m\u001b[0;34m,\u001b[0m\u001b[0mascending\u001b[0m\u001b[0;34m=\u001b[0m\u001b[0;32mFalse\u001b[0m\u001b[0;34m)\u001b[0m\u001b[0;34m.\u001b[0m\u001b[0mhead\u001b[0m\u001b[0;34m(\u001b[0m\u001b[0;36m10\u001b[0m\u001b[0;34m)\u001b[0m\u001b[0;34m\u001b[0m\u001b[0m\n\u001b[0m\u001b[1;32m      4\u001b[0m \u001b[0mdisplay\u001b[0m\u001b[0;34m(\u001b[0m\u001b[0mresult\u001b[0m\u001b[0;34m)\u001b[0m\u001b[0;34m\u001b[0m\u001b[0m\n\u001b[1;32m      5\u001b[0m \u001b[0mbig_result\u001b[0m \u001b[0;34m=\u001b[0m \u001b[0mresult\u001b[0m\u001b[0;34m.\u001b[0m\u001b[0mloc\u001b[0m\u001b[0;34m[\u001b[0m \u001b[0;34m(\u001b[0m\u001b[0mresult\u001b[0m\u001b[0;34m[\u001b[0m\u001b[0;34m'Counts'\u001b[0m\u001b[0;34m]\u001b[0m \u001b[0;34m>\u001b[0m \u001b[0;36m200\u001b[0m\u001b[0;34m)\u001b[0m\u001b[0;34m]\u001b[0m\u001b[0;34m\u001b[0m\u001b[0m\n",
      "\u001b[0;32m~/anaconda3/lib/python3.6/site-packages/pandas/core/generic.py\u001b[0m in \u001b[0;36mgroupby\u001b[0;34m(self, by, axis, level, as_index, sort, group_keys, squeeze, observed, **kwargs)\u001b[0m\n\u001b[1;32m   6657\u001b[0m         return groupby(self, by=by, axis=axis, level=level, as_index=as_index,\n\u001b[1;32m   6658\u001b[0m                        \u001b[0msort\u001b[0m\u001b[0;34m=\u001b[0m\u001b[0msort\u001b[0m\u001b[0;34m,\u001b[0m \u001b[0mgroup_keys\u001b[0m\u001b[0;34m=\u001b[0m\u001b[0mgroup_keys\u001b[0m\u001b[0;34m,\u001b[0m \u001b[0msqueeze\u001b[0m\u001b[0;34m=\u001b[0m\u001b[0msqueeze\u001b[0m\u001b[0;34m,\u001b[0m\u001b[0;34m\u001b[0m\u001b[0m\n\u001b[0;32m-> 6659\u001b[0;31m                        observed=observed, **kwargs)\n\u001b[0m\u001b[1;32m   6660\u001b[0m \u001b[0;34m\u001b[0m\u001b[0m\n\u001b[1;32m   6661\u001b[0m     def asfreq(self, freq, method=None, how=None, normalize=False,\n",
      "\u001b[0;32m~/anaconda3/lib/python3.6/site-packages/pandas/core/groupby/groupby.py\u001b[0m in \u001b[0;36mgroupby\u001b[0;34m(obj, by, **kwds)\u001b[0m\n\u001b[1;32m   2150\u001b[0m         \u001b[0;32mraise\u001b[0m \u001b[0mTypeError\u001b[0m\u001b[0;34m(\u001b[0m\u001b[0;34m'invalid type: %s'\u001b[0m \u001b[0;34m%\u001b[0m \u001b[0mtype\u001b[0m\u001b[0;34m(\u001b[0m\u001b[0mobj\u001b[0m\u001b[0;34m)\u001b[0m\u001b[0;34m)\u001b[0m\u001b[0;34m\u001b[0m\u001b[0m\n\u001b[1;32m   2151\u001b[0m \u001b[0;34m\u001b[0m\u001b[0m\n\u001b[0;32m-> 2152\u001b[0;31m     \u001b[0;32mreturn\u001b[0m \u001b[0mklass\u001b[0m\u001b[0;34m(\u001b[0m\u001b[0mobj\u001b[0m\u001b[0;34m,\u001b[0m \u001b[0mby\u001b[0m\u001b[0;34m,\u001b[0m \u001b[0;34m**\u001b[0m\u001b[0mkwds\u001b[0m\u001b[0;34m)\u001b[0m\u001b[0;34m\u001b[0m\u001b[0m\n\u001b[0m\u001b[1;32m   2153\u001b[0m \u001b[0;34m\u001b[0m\u001b[0m\n\u001b[1;32m   2154\u001b[0m \u001b[0;34m\u001b[0m\u001b[0m\n",
      "\u001b[0;32m~/anaconda3/lib/python3.6/site-packages/pandas/core/groupby/groupby.py\u001b[0m in \u001b[0;36m__init__\u001b[0;34m(self, obj, keys, axis, level, grouper, exclusions, selection, as_index, sort, group_keys, squeeze, observed, **kwargs)\u001b[0m\n\u001b[1;32m    597\u001b[0m                                                     \u001b[0msort\u001b[0m\u001b[0;34m=\u001b[0m\u001b[0msort\u001b[0m\u001b[0;34m,\u001b[0m\u001b[0;34m\u001b[0m\u001b[0m\n\u001b[1;32m    598\u001b[0m                                                     \u001b[0mobserved\u001b[0m\u001b[0;34m=\u001b[0m\u001b[0mobserved\u001b[0m\u001b[0;34m,\u001b[0m\u001b[0;34m\u001b[0m\u001b[0m\n\u001b[0;32m--> 599\u001b[0;31m                                                     mutated=self.mutated)\n\u001b[0m\u001b[1;32m    600\u001b[0m \u001b[0;34m\u001b[0m\u001b[0m\n\u001b[1;32m    601\u001b[0m         \u001b[0mself\u001b[0m\u001b[0;34m.\u001b[0m\u001b[0mobj\u001b[0m \u001b[0;34m=\u001b[0m \u001b[0mobj\u001b[0m\u001b[0;34m\u001b[0m\u001b[0m\n",
      "\u001b[0;32m~/anaconda3/lib/python3.6/site-packages/pandas/core/groupby/groupby.py\u001b[0m in \u001b[0;36m_get_grouper\u001b[0;34m(obj, key, axis, level, sort, observed, mutated, validate)\u001b[0m\n\u001b[1;32m   3289\u001b[0m                 \u001b[0min_axis\u001b[0m\u001b[0;34m,\u001b[0m \u001b[0mname\u001b[0m\u001b[0;34m,\u001b[0m \u001b[0mlevel\u001b[0m\u001b[0;34m,\u001b[0m \u001b[0mgpr\u001b[0m \u001b[0;34m=\u001b[0m \u001b[0;32mFalse\u001b[0m\u001b[0;34m,\u001b[0m \u001b[0;32mNone\u001b[0m\u001b[0;34m,\u001b[0m \u001b[0mgpr\u001b[0m\u001b[0;34m,\u001b[0m \u001b[0;32mNone\u001b[0m\u001b[0;34m\u001b[0m\u001b[0m\n\u001b[1;32m   3290\u001b[0m             \u001b[0;32melse\u001b[0m\u001b[0;34m:\u001b[0m\u001b[0;34m\u001b[0m\u001b[0m\n\u001b[0;32m-> 3291\u001b[0;31m                 \u001b[0;32mraise\u001b[0m \u001b[0mKeyError\u001b[0m\u001b[0;34m(\u001b[0m\u001b[0mgpr\u001b[0m\u001b[0;34m)\u001b[0m\u001b[0;34m\u001b[0m\u001b[0m\n\u001b[0m\u001b[1;32m   3292\u001b[0m         \u001b[0;32melif\u001b[0m \u001b[0misinstance\u001b[0m\u001b[0;34m(\u001b[0m\u001b[0mgpr\u001b[0m\u001b[0;34m,\u001b[0m \u001b[0mGrouper\u001b[0m\u001b[0;34m)\u001b[0m \u001b[0;32mand\u001b[0m \u001b[0mgpr\u001b[0m\u001b[0;34m.\u001b[0m\u001b[0mkey\u001b[0m \u001b[0;32mis\u001b[0m \u001b[0;32mnot\u001b[0m \u001b[0;32mNone\u001b[0m\u001b[0;34m:\u001b[0m\u001b[0;34m\u001b[0m\u001b[0m\n\u001b[1;32m   3293\u001b[0m             \u001b[0;31m# Add key to exclusions\u001b[0m\u001b[0;34m\u001b[0m\u001b[0;34m\u001b[0m\u001b[0m\n",
      "\u001b[0;31mKeyError\u001b[0m: 'Service'"
     ]
    }
   ],
   "source": [
    "#### from IPython.display import display, HTML\n",
    "\n",
    "result = df.groupby('Service').count().sort_values(['Counts'],ascending=False).head(10)\n",
    "display(result)\n",
    "big_result = result.loc[ (result['Counts'] > 200)]\n",
    "print(len(big_result.index))\n",
    "display(big_result)\n"
   ]
  },
  {
   "cell_type": "code",
   "execution_count": null,
   "metadata": {},
   "outputs": [],
   "source": [
    "import urllib.parse as urlparse\n",
    "\n",
    "title = ['device_uuid','device_os','device_name','app_version']\n",
    "\n",
    "output_list = []\n",
    "\n",
    "for i in range(len(big_result.index)):\n",
    "    url = big_result.index[i]\n",
    "    parsed = urlparse.urlparse(url)\n",
    "    \n",
    "    output = []\n",
    "    for i in range(len(title)):\n",
    "        output.append(\"\".join(urlparse.parse_qs(parsed.query)[title[i]]))\n",
    "        \n",
    "    output_list.append(output)   \n",
    "    \n",
    "print(len(output_list))\n",
    "\n",
    "print(','.join(map(str, title)))\n",
    "\n",
    "for item in output_list:\n",
    "    print(','.join(map(str, item)))\n",
    "        "
   ]
  },
  {
   "cell_type": "code",
   "execution_count": null,
   "metadata": {},
   "outputs": [],
   "source": [
    "filter_date = (df['Request_Time'] > '2019-06-27 05:00:00') & (df['Request_Time'] <= '2019-06-27 09:00:00')\n",
    "result = df.loc[filter_date].groupby('Service').count().sort_values(['Counts'],ascending=False).head(3)\n",
    "# print(result.index[0])\n",
    "\n"
   ]
  },
  {
   "cell_type": "code",
   "execution_count": null,
   "metadata": {},
   "outputs": [],
   "source": [
    "# link_name = 'raininfopro.html?os=Android&device_os=6.0.1&device_name=KYOCERA_KYV38&app_version=5.1&device_uuid=259708173140&pa=nkishou&device_token=c8VvROrkRcQ%3AAPA91bEzTqtQAQV99mPp80DEvMCbTaUUzlG_cND3EBawwo5pl8kT1wDVLRdqG5hNQdnIqUiSFysrktYwypYl6U1tvgZHTpjJXp91zvDdFkdFrRVctif22zn8cl6hCybxuTjCH9Yu_t_1&entity=start_up&service_type=ausp&aups=1&rainalert_starttime=0000&rainalert_endtime=2400&rainalert_enabled=1&area_code=0&lat=35.7204979&lon=140.1599286'\n",
    "mask = (df['Request_Time'] > '2019-06-27 05:00:00') & (df['Request_Time'] <= '2019-06-27 09:00:00') & (df['Service'] == result.index[0])\n",
    "df.loc[mask].groupby('Request_Time').count().sort_values(['Counts'],ascending=False)"
   ]
  },
  {
   "cell_type": "code",
   "execution_count": null,
   "metadata": {},
   "outputs": [],
   "source": [
    "result = df.loc[mask].groupby('Request_Time').count()\n",
    "# result.index\n",
    "plt.plot_date(result.index,result['Counts'])\n",
    "plt.grid(True)\n",
    "plt.rcParams[\"figure.figsize\"] = (100,1)\n",
    "plt.show()"
   ]
  },
  {
   "cell_type": "code",
   "execution_count": null,
   "metadata": {},
   "outputs": [],
   "source": []
  }
 ],
 "metadata": {
  "kernelspec": {
   "display_name": "Python 3",
   "language": "python",
   "name": "python3"
  },
  "language_info": {
   "codemirror_mode": {
    "name": "ipython",
    "version": 3
   },
   "file_extension": ".py",
   "mimetype": "text/x-python",
   "name": "python",
   "nbconvert_exporter": "python",
   "pygments_lexer": "ipython3",
   "version": "3.6.5"
  }
 },
 "nbformat": 4,
 "nbformat_minor": 2
}
